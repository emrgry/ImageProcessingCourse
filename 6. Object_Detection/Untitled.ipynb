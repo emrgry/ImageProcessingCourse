{
 "cells": [
  {
   "cell_type": "markdown",
   "metadata": {},
   "source": [
    "# OBJECT DETECTION"
   ]
  },
  {
   "cell_type": "markdown",
   "metadata": {},
   "source": [
    "## Template Matching"
   ]
  },
  {
   "cell_type": "markdown",
   "metadata": {},
   "source": [
    "Template Matching is a method for searching and finding the location of a template image in a larger image"
   ]
  },
  {
   "cell_type": "code",
   "execution_count": 26,
   "metadata": {},
   "outputs": [],
   "source": [
    "import cv2 \n",
    "import numpy as np\n",
    "\n",
    "img = cv2.imread('card.png',0)\n",
    "cv2.imshow(\"Original\", img)\n",
    "\n",
    "template = cv2.imread('card_temp.png',0)\n",
    "w, h = template.shape[::-1]\n",
    "\n",
    "# evaluates cv2.method_name dynamically (when program runs) \n",
    "method = eval(\"cv2.TM_CCOEFF\")\n",
    "\n",
    "# matchTemplate(image, template, method)\n",
    "res = cv2.matchTemplate(img,template,method)\n",
    "\n",
    "# find min and max locations and values\n",
    "min_val, max_val, min_loc, max_loc = cv2.minMaxLoc(res)\n",
    "\n",
    "# find bottom right of position of template\n",
    "# max_loc gives us top left position of template as (x,y)\n",
    "bottom_right = (max_loc[0] + w, max_loc[1] + h)\n",
    "\n",
    "# put rectangel of this position\n",
    "cv2.rectangle(img,top_left, bottom_right, 0, 2)\n",
    "\n",
    "cv2.imshow(\"Template Matching\", img)\n",
    "\n",
    "cv2.waitKey()\n",
    "cv2.destroyAllWindows()"
   ]
  },
  {
   "cell_type": "code",
   "execution_count": 25,
   "metadata": {},
   "outputs": [],
   "source": [
    "import cv2 \n",
    "import numpy as np\n",
    "\n",
    "img = cv2.imread('card.png')\n",
    "cv2.imshow(\"Original\", img)\n",
    "\n",
    "gray = cv.cvtColor(img, cv2.COLOR_BGR2GRAY)\n",
    "\n",
    "template = cv2.imread('card_temp.png',0)\n",
    "w, h = template.shape[::-1]\n",
    "\n",
    "res = cv.matchTemplate(gray,template,cv2.TM_CCOEFF_NORMED)\n",
    "\n",
    "threshold = 0.6\n",
    "# if match result greater than threshold.\n",
    "loc = np.where( res >= threshold)\n",
    "\n",
    "# put rectangle to all locations\n",
    "for pt in zip(*loc[::-1]):\n",
    "    cv.rectangle(img, pt, (pt[0] + w, pt[1] + h), (0,0,255), 1)\n",
    "\n",
    "cv2.imshow(\"Template Matching\", img)\n",
    "\n",
    "cv2.waitKey()\n",
    "cv2.destroyAllWindows()"
   ]
  },
  {
   "cell_type": "markdown",
   "metadata": {},
   "source": [
    "## Hough Transform"
   ]
  },
  {
   "cell_type": "markdown",
   "metadata": {},
   "source": [
    "The Hough Transform is a popular technique to detect any shape, if you can represent that shape in a mathematical form. It can detect the shape even if it is broken or distorted a little bit. There is 2 image which are include bumb and scratch of car"
   ]
  },
  {
   "cell_type": "markdown",
   "metadata": {},
   "source": [
    "## Hough Line Detection"
   ]
  },
  {
   "cell_type": "code",
   "execution_count": 114,
   "metadata": {},
   "outputs": [],
   "source": [
    "import cv2\n",
    "import numpy as np\n",
    "\n",
    "img = cv2.imread('scratch.png')\n",
    "gray = cv2.cvtColor(img,cv2.COLOR_BGR2GRAY)\n",
    "\n",
    "# Canny(image, threshold1, threshold2, order of kernel)\n",
    "edges = cv2.Canny(gray,5,85,apertureSize = 3)\n",
    "\n",
    "# HoughLines(image,rho, theta, threshold)\n",
    "lines = cv2.HoughLines(edges,1,np.pi/180,100)\n",
    "\n",
    "length = 0\n",
    "loc = []\n",
    "\n",
    "# if you want to understand the math below check\n",
    "# https://github.com/adityaintwala/Hough-Line-Detection\n",
    "for line in lines:\n",
    "    rho,theta = line[0]\n",
    "    a = np.cos(theta)\n",
    "    b = np.sin(theta)\n",
    "    x0 = a*rho\n",
    "    y0 = b*rho\n",
    "    x1 = int(x0 + 1000*(-b))\n",
    "    y1 = int(y0 + 1000*(a))\n",
    "    x2 = int(x0 - 1000*(-b))\n",
    "    y2 = int(y0 - 1000*(a))\n",
    "    \n",
    "    # find length of line\n",
    "    cur_len = ((x2-x1)**2 + (y2-y1)**2)**0.5\n",
    "    # find max length\n",
    "    if length < cur_len:\n",
    "        length = cur_len \n",
    "        loc\n",
    "        loc = [(x1,y1),(x2,y2)]\n",
    "\n",
    "cv.line(img,loc[0],loc[1],(0,0,255),1)\n",
    "\n",
    "cv2.imshow(\"Detected Lines\", img)\n",
    "\n",
    "cv2.waitKey()\n",
    "cv2.destroyAllWindows()"
   ]
  },
  {
   "cell_type": "markdown",
   "metadata": {},
   "source": [
    "## Probabilistic Hough Transform"
   ]
  },
  {
   "cell_type": "code",
   "execution_count": null,
   "metadata": {},
   "outputs": [],
   "source": [
    "import cv2\n",
    "import numpy as np\n",
    "\n",
    "img = cv2.imread('scratch.png')\n",
    "gray = cv2.cvtColor(img,cv2.COLOR_BGR2GRAY)\n",
    "edges = cv2.Canny(gray,5,85,apertureSize = 3)\n",
    "\n",
    "# HoughLinesP(image,rho,theta,threshold,minLineLength,maxLineGap)\n",
    "lines = cv.HoughLinesP(edges,1,np.pi/180,100,minLineLength=100,maxLineGap=10)\n",
    "for line in lines:\n",
    "    x1,y1,x2,y2 = line[0]\n",
    "    cv.line(img,(x1,y1),(x2,y2),(0,255,0),2)\n",
    "\n",
    "cv2.imshow(\"Detected Lines\", img)\n",
    "\n",
    "cv2.waitKey()\n",
    "cv2.destroyAllWindows()"
   ]
  },
  {
   "cell_type": "markdown",
   "metadata": {},
   "source": [
    "## Hough Circle Detection"
   ]
  },
  {
   "cell_type": "code",
   "execution_count": 116,
   "metadata": {},
   "outputs": [],
   "source": [
    "import cv2\n",
    "import numpy as np\n",
    "\n",
    "img = cv2.imread('bumb.png',0)\n",
    "img = cv2.medianBlur(img,5)\n",
    "cimg = cv2.cvtColor(img,cv2.COLOR_GRAY2BGR)\n",
    "# HoughCircles(image, method, Resolution of the accumulator array, Minimum distance between the center,\n",
    "# gradşent value, threshold value of method, min radius, max radius)\n",
    "circles = cv2.HoughCircles(img,cv2.HOUGH_GRADIENT,1,20,param1=50,param2=30,minRadius=0,maxRadius=0)\n",
    "circles = np.uint16(np.around(circles))\n",
    "\n",
    "for i in circles[0,:]:\n",
    "    # draw the outer circle\n",
    "    cv2.circle(cimg,(i[0],i[1]),i[2],(0,255,0),2)\n",
    "    # draw the center of the circle\n",
    "    cv2.circle(cimg,(i[0],i[1]),2,(0,0,255),3)\n",
    "    \n",
    "cv2.imshow('detected circles',cimg)\n",
    "cv2.waitKey()\n",
    "cv2.destroyAllWindows()"
   ]
  },
  {
   "cell_type": "markdown",
   "metadata": {},
   "source": [
    "## Contours"
   ]
  },
  {
   "cell_type": "markdown",
   "metadata": {},
   "source": [
    "If we want to detect contour, we need to clear binary image."
   ]
  },
  {
   "cell_type": "code",
   "execution_count": 4,
   "metadata": {},
   "outputs": [
    {
     "name": "stdout",
     "output_type": "stream",
     "text": [
      "6 contour found\n",
      "contour area:  18005.5\n",
      "contour perimeter:  520.9188272953033\n",
      "contour area:  18394.5\n",
      "contour perimeter:  527.5462448596954\n",
      "contour area:  18987.0\n",
      "contour perimeter:  537.5046153068542\n",
      "contour area:  22116.5\n",
      "contour perimeter:  571.4873690605164\n",
      "contour area:  18297.5\n",
      "contour perimeter:  534.0315253734589\n",
      "contour area:  19738.0\n",
      "contour perimeter:  547.7888844013214\n"
     ]
    }
   ],
   "source": [
    "import cv2\n",
    "import numpy as np\n",
    "\n",
    "img = cv2.imread('coins.png')\n",
    "\n",
    "cv2.imshow('Original',img)\n",
    "\n",
    "gray = cv2.cvtColor(img, cv2.COLOR_BGR2GRAY)\n",
    "# you can find clear output by change values\n",
    "gray_blur = cv2.GaussianBlur(gray, (15, 15), 0)\n",
    "thresh = cv2.adaptiveThreshold(gray_blur, 255, cv2.ADAPTIVE_THRESH_GAUSSIAN_C,cv2.THRESH_BINARY_INV, 5, 1)\n",
    "\n",
    "kernel = np.ones((7,7), np.uint8)\n",
    "closing = cv2.morphologyEx(thresh, cv2.MORPH_CLOSE,kernel, iterations=3)\n",
    "\n",
    "cv2.imshow('closing',closing)\n",
    "\n",
    "# now we can find contours\n",
    "# findContours(image, method_1, method_2)\n",
    "contours, hierarchy = cv2.findContours(closing,cv2.RETR_TREE,cv2.CHAIN_APPROX_SIMPLE)\n",
    "\n",
    "# let's inspect contours\n",
    "print(len(contours), \"contour found\")\n",
    "for contour in contours:\n",
    "    # you can find contour area by using contourArea()\n",
    "    area = cv2.contourArea(contour)\n",
    "    print(\"contour area: \", area)\n",
    "    \n",
    "    # you can find contour perimeter by using arcLength()\n",
    "    perimeter = cv2.arcLength(contour,True)\n",
    "    print(\"contour perimeter: \", perimeter)\n",
    "    \n",
    "    # you can create rectangle which includes contour\n",
    "    x,y,w,h = cv2.boundingRect(contour)\n",
    "    cv2.rectangle(img, (x,y), (x+w, y+h), (255,0,0),1)\n",
    "    \n",
    "    # you can fit contour to ellipse\n",
    "    ellipse = cv2.fitEllipse(contour)\n",
    "    cv2.ellipse(img, ellipse, (0,255,0), 2)\n",
    "    \n",
    "    \n",
    "    \n",
    "cv2.imshow(\"contours\", img)  \n",
    "\n",
    "\n",
    "cv2.waitKey()\n",
    "cv2.destroyAllWindows()"
   ]
  },
  {
   "cell_type": "markdown",
   "metadata": {},
   "source": [
    "## Corner Detection"
   ]
  },
  {
   "cell_type": "code",
   "execution_count": 6,
   "metadata": {},
   "outputs": [],
   "source": [
    "import cv2\n",
    "import numpy as np\n",
    "\n",
    "img = cv2.imread('figures.jpg',)\n",
    "gray = cv2.cvtColor(img, cv2.COLOR_BGR2GRAY)\n",
    "\n",
    "# we need a float numpy array\n",
    "gray2 = np.float32(gray)\n",
    "\n",
    "# cornerHarris(image, block_size, aperture_size,k)\n",
    "dst = cv2.cornerHarris(gray2,2,3,0.04)\n",
    "cv2.imshow('First',dst)\n",
    "\n",
    "dst2 = cv2.dilate(dst,None)\n",
    "cv2.imshow('Second',dst2)\n",
    "\n",
    "# eliminate corners\n",
    "img[dst>0.3*dst.max()/4]=[0,0,255]\n",
    "cv2.imshow('last',img)\n",
    "\n",
    "cv2.waitKey()\n",
    "cv2.destroyAllWindows()"
   ]
  },
  {
   "cell_type": "markdown",
   "metadata": {},
   "source": [
    "## Count Circles and Ellipses"
   ]
  },
  {
   "cell_type": "code",
   "execution_count": 62,
   "metadata": {},
   "outputs": [],
   "source": [
    "import cv2\n",
    "import numpy as np\n",
    "\n",
    "def nothing(x):\n",
    "    pass\n",
    "\n",
    "image2 = cv2.imread('figures.jpg')\n",
    "\n",
    "cv2.imshow('Original',image2)\n",
    "\n",
    "\n",
    "cv2.namedWindow(\"Trackbars\")\n",
    "# L: lower U: Upper\n",
    "# you can find perfect mask for hsv space\n",
    "cv2.createTrackbar(\"L-H\", \"Trackbars\", 0,180, nothing)\n",
    "cv2.createTrackbar(\"L-S\", \"Trackbars\", 0,255, nothing)\n",
    "cv2.createTrackbar(\"L-V\", \"Trackbars\", 0,255, nothing)\n",
    "cv2.createTrackbar(\"U-H\", \"Trackbars\", 180,180, nothing)\n",
    "cv2.createTrackbar(\"U-S\", \"Trackbars\", 255,255, nothing)\n",
    "cv2.createTrackbar(\"U-V\", \"Trackbars\", 255,255, nothing)\n",
    "\n",
    "font = cv2.FONT_HERSHEY_COMPLEX\n",
    "line = cv2.LINE_AA\n",
    "    \n",
    "while True:\n",
    "    image = cv2.imread('figures.jpg')\n",
    "    hsv = cv2.cvtColor(image2, cv2.COLOR_BGR2HSV)\n",
    "    # get values from trackbar\n",
    "    l_h = cv2.getTrackbarPos(\"L-H\",\"Trackbars\")\n",
    "    l_s = cv2.getTrackbarPos(\"L-S\",\"Trackbars\")\n",
    "    l_v = cv2.getTrackbarPos(\"L-V\", \"Trackbars\")\n",
    "    u_h = cv2.getTrackbarPos(\"U-H\", \"Trackbars\")\n",
    "    u_s = cv2.getTrackbarPos(\"U-S\", \"Trackbars\")\n",
    "    u_v = cv2.getTrackbarPos(\"U-V\", \"Trackbars\") \n",
    "    \n",
    "    black_upper = np.array([u_h, u_s, u_v])\n",
    "    black_lower = np.array([l_h, l_s, l_v])    \n",
    "    mask = cv2.inRange(hsv,black_lower,black_upper)\n",
    "    \n",
    "    blur = cv2.GaussianBlur(mask, (5, 5), 0)\n",
    "\n",
    "    kernel = np.ones((5,5), np.uint8)\n",
    "    mask = cv2.erode(blur, kernel)\n",
    "    mask = cv2.dilate(mask, kernel)\n",
    "    cv2.imshow('last',mask)\n",
    "    \n",
    "    triangles = 0\n",
    "    circles = 0\n",
    "    squares = 0\n",
    "    rectangle = 0\n",
    "    \n",
    "    contours, _ = cv2.findContours(mask, cv2.RETR_TREE, cv2.CHAIN_APPROX_SIMPLE)\n",
    "    \n",
    "    for contour in contours:\n",
    "        area = cv2.contourArea(contour)\n",
    "        if area < 500 or area > 5500:\n",
    "            continue\n",
    "        [ref_x, ref_y, ref_width, ref_height] = cv2.boundingRect(contour)\n",
    "        ref_approx = cv2.approxPolyDP(contour, 0.04 * cv2.arcLength(contour, True), True)\n",
    "        cv2.drawContours(image, [ref_approx], 0, (0, 0, 255), 3)\n",
    "        \n",
    "        if(len(ref_approx) == 3):\n",
    "            triangles +=1\n",
    "            cv2.putText(image, \"triangle:\"+str(triangles), (ref_x, ref_y), font, 0.4, (255, 0, 0), 1, line)\n",
    "        elif(len(ref_approx) == 4):\n",
    "            ar = ref_width / float(ref_height)\n",
    "            if(ar >= 0.96 and ar <=1.05):\n",
    "                squares +=1\n",
    "                cv2.putText(image, \"square:\"+str(squares), (ref_x, ref_y), font, 0.4, (255, 0, 0), 1, line)\n",
    "            else:\n",
    "                rectangle +=1\n",
    "                cv2.putText(image, \"rectangle:\"+str(rectangle), (ref_x, ref_y), font, 0.4, (255, 0, 0), 1, line) \n",
    "        else:\n",
    "            circles += 1\n",
    "            cv2.putText(image, \"circles:\"+str(circles), (ref_x, ref_y), font, 0.4, (255, 0, 0), 1, line)   \n",
    "            \n",
    "    \n",
    "    cv2.imshow('final',image)\n",
    "    # if user press q break loop\n",
    "    if cv2.waitKey(10) & 0xff == ord('q'):\n",
    "        break\n",
    "cv2.destroyAllWindows()"
   ]
  },
  {
   "cell_type": "markdown",
   "metadata": {},
   "source": [
    "Note: If you couldn't find the mask value try for this values below:\n",
    "L-H:96\n",
    "L-S:111\n",
    "L-V:0\n",
    "U-H:180\n",
    "U-S:255\n",
    "U-V:255"
   ]
  },
  {
   "cell_type": "code",
   "execution_count": null,
   "metadata": {},
   "outputs": [],
   "source": []
  }
 ],
 "metadata": {
  "kernelspec": {
   "display_name": "Python 3",
   "language": "python",
   "name": "python3"
  },
  "language_info": {
   "codemirror_mode": {
    "name": "ipython",
    "version": 3
   },
   "file_extension": ".py",
   "mimetype": "text/x-python",
   "name": "python",
   "nbconvert_exporter": "python",
   "pygments_lexer": "ipython3",
   "version": "3.7.6"
  }
 },
 "nbformat": 4,
 "nbformat_minor": 4
}
