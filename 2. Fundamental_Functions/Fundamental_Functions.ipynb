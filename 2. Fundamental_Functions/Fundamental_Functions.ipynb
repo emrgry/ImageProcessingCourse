{
 "cells": [
  {
   "cell_type": "markdown",
   "metadata": {},
   "source": [
    "# 2. Fundamental Image Functions"
   ]
  },
  {
   "cell_type": "markdown",
   "metadata": {},
   "source": [
    "# 2.1. Geometric Translations"
   ]
  },
  {
   "cell_type": "markdown",
   "metadata": {},
   "source": [
    "## Scaling"
   ]
  },
  {
   "cell_type": "code",
   "execution_count": 13,
   "metadata": {},
   "outputs": [],
   "source": [
    "import cv2\n",
    "\n",
    "img = cv2.imread('arc.jpg')\n",
    "\n",
    "# we are using resize function for scaling.\n",
    "scaled = cv2.resize(img, (200,200)) # resize(image, dimensions(width, height))\n",
    "# you can try other values\n",
    "\n",
    "cv2.imshow(\"frame\", scaled)\n",
    "\n",
    "cv2.waitKey() \n",
    "cv2.destroyAllWindows() "
   ]
  },
  {
   "cell_type": "markdown",
   "metadata": {},
   "source": [
    "## Translation"
   ]
  },
  {
   "cell_type": "code",
   "execution_count": 26,
   "metadata": {},
   "outputs": [],
   "source": [
    "import cv2\n",
    "import numpy as np\n",
    "\n",
    "img = cv2.imread('arc.jpg')\n",
    "\n",
    "# we need a translation matrix, let's define it.\n",
    "M = np.float32([[1, 0, 25], [0, 1, -50]]) # let's shift it for 25 pixel right and 50 pixel up\n",
    "\n",
    "# warpAffine(image, Translation matrix, (desired dimensions))\n",
    "shifted = cv2.warpAffine(img, M, (img.shape[1], img.shape[0])) \n",
    "\n",
    "cv2.imshow(\"frame\", shifted)\n",
    "\n",
    "cv2.waitKey() \n",
    "cv2.destroyAllWindows() "
   ]
  },
  {
   "cell_type": "markdown",
   "metadata": {},
   "source": [
    "## Rotation"
   ]
  },
  {
   "cell_type": "code",
   "execution_count": 32,
   "metadata": {},
   "outputs": [],
   "source": [
    "import cv2\n",
    "import numpy as np\n",
    "\n",
    "img = cv2.imread('arc.jpg')\n",
    "# let's rotate image from center\n",
    "(h, w) = img.shape[:2]\n",
    "(cX, cY) = (w // 2, h // 2) # cX, cY are center points\n",
    "\n",
    "# create rotation matrix\n",
    "#getRotationMatrix2D(center points, desired degree, scale factor)\n",
    "M = cv2.getRotationMatrix2D((cX, cY), 45, 1.0) # you can change this values and see what will happen\n",
    "rotated = cv2.warpAffine(img, M, (w, h))\n",
    "\n",
    "cv2.imshow(\"frame\", rotated)\n",
    "\n",
    "cv2.waitKey() \n",
    "cv2.destroyAllWindows() "
   ]
  },
  {
   "cell_type": "markdown",
   "metadata": {},
   "source": [
    "## Crop"
   ]
  },
  {
   "cell_type": "code",
   "execution_count": 39,
   "metadata": {},
   "outputs": [],
   "source": [
    "import cv2\n",
    "import numpy as np\n",
    "\n",
    "img = cv2.imread('arc.jpg')\n",
    "(h, w) = img.shape[:2]\n",
    "\n",
    "cropped = img[200:200+int(w/2), 200:200+int(w/2)]\n",
    "\n",
    "cv2.imshow(\"frame\", cropped)\n",
    "\n",
    "cv2.waitKey() \n",
    "cv2.destroyAllWindows() "
   ]
  },
  {
   "cell_type": "markdown",
   "metadata": {},
   "source": [
    "# 2.2 Arithmetical Operations"
   ]
  },
  {
   "cell_type": "markdown",
   "metadata": {},
   "source": [
    "let's add 2 image"
   ]
  },
  {
   "cell_type": "code",
   "execution_count": 45,
   "metadata": {},
   "outputs": [],
   "source": [
    "import cv2\n",
    "import numpy as np\n",
    "\n",
    "img_1 = cv2.imread('add_1.png')\n",
    "img_2 = cv2.imread('add_2.png')\n",
    "\n",
    "#added = img_1+img_2\n",
    "# or\n",
    "added = cv2.add(img_1, img_2)\n",
    "\n",
    "cv2.imshow(\"img_1\", img_1)\n",
    "cv2.imshow(\"img_2\", img_2)\n",
    "cv2.imshow(\"added\", added)\n",
    "\n",
    "cv2.waitKey() \n",
    "cv2.destroyAllWindows() "
   ]
  },
  {
   "cell_type": "markdown",
   "metadata": {},
   "source": [
    "Now, let's subtract 2 image"
   ]
  },
  {
   "cell_type": "code",
   "execution_count": 53,
   "metadata": {},
   "outputs": [],
   "source": [
    "import cv2\n",
    "import numpy as np\n",
    "\n",
    "img_1 = cv2.imread('diff_1.png')\n",
    "img_2 = cv2.imread('diff_2.png')\n",
    "\n",
    "subs1 = img_1 - img_2\n",
    "subs2 = img_2 - img_1\n",
    "subs3 = abs(img_2 - img_1)\n",
    "# or\n",
    "#subs1 = cv2.subtract(img_1, img_2)\n",
    "#subs2 = cv2.subtract(img_2, img_1)\n",
    "#subs3 = cv2.absdiff(img_1, img_2)\n",
    "\n",
    "\n",
    "# let's see difference\n",
    "cv2.imshow(\"img_1\", img_1)\n",
    "cv2.imshow(\"img_2\", img_2)\n",
    "cv2.imshow(\"subs1\", subs1)\n",
    "cv2.imshow(\"subs2\", subs2)\n",
    "cv2.imshow(\"abs\", subs3)\n",
    "\n",
    "\n",
    "cv2.waitKey() \n",
    "cv2.destroyAllWindows() "
   ]
  },
  {
   "cell_type": "markdown",
   "metadata": {},
   "source": [
    "Now, we'll add 2 images with blend method"
   ]
  },
  {
   "cell_type": "code",
   "execution_count": 58,
   "metadata": {},
   "outputs": [],
   "source": [
    "import cv2\n",
    "import numpy as np\n",
    "\n",
    "img_1 = cv2.imread('riders.jpg')\n",
    "img_2 = cv2.imread('opencv.png')\n",
    "\n",
    "#addWeighted(image_1, alpha, image_2, beta, gamma)\n",
    "# result will be image_1*alpha + image_2*beta + gamma\n",
    "added = cv2.addWeighted(img_1, 0.9, img_2, 0.1, 0) # you can change values\n",
    "\n",
    "cv2.imshow(\"added\", added)\n",
    "\n",
    "cv2.waitKey() \n",
    "cv2.destroyAllWindows() "
   ]
  },
  {
   "cell_type": "markdown",
   "metadata": {},
   "source": [
    "# 2.3 Drawing Functions"
   ]
  },
  {
   "cell_type": "markdown",
   "metadata": {},
   "source": [
    "Let's draw into empty (white) image"
   ]
  },
  {
   "cell_type": "markdown",
   "metadata": {},
   "source": [
    "# line"
   ]
  },
  {
   "cell_type": "code",
   "execution_count": 64,
   "metadata": {},
   "outputs": [],
   "source": [
    "import cv2\n",
    "import numpy as np\n",
    "\n",
    "# Create a white image\n",
    "img = np.zeros((512,512,3), np.uint8)\n",
    "img[:,:] = (255, 255, 255)\n",
    "\n",
    "# line(image, point_1, point_2, line color as BGR, thickness value)\n",
    "cv2.line(img,(0,0),(511,511),(255,0,255),5)\n",
    "\n",
    "cv2.imshow(\"line\", img)\n",
    "\n",
    "cv2.waitKey() \n",
    "cv2.destroyAllWindows() "
   ]
  },
  {
   "cell_type": "markdown",
   "metadata": {},
   "source": [
    "# rectangle"
   ]
  },
  {
   "cell_type": "code",
   "execution_count": 70,
   "metadata": {},
   "outputs": [],
   "source": [
    "import cv2\n",
    "import numpy as np\n",
    "\n",
    "# Create a white image\n",
    "img = np.zeros((512,512,3), np.uint8)\n",
    "img[:,:] = (255, 255, 255)\n",
    "\n",
    "# rectangle(image, point_1, point_2, line color as BGR, thickness value)\n",
    "cv2.rectangle(img,(10,10),(250,250),(0,0,255),6)\n",
    "\n",
    "cv2.imshow(\"rectangle\", img)\n",
    "\n",
    "cv2.waitKey() \n",
    "cv2.destroyAllWindows() "
   ]
  },
  {
   "cell_type": "markdown",
   "metadata": {},
   "source": [
    "# circle"
   ]
  },
  {
   "cell_type": "code",
   "execution_count": 80,
   "metadata": {},
   "outputs": [],
   "source": [
    "import cv2\n",
    "import numpy as np\n",
    "\n",
    "# Create a white image\n",
    "img = np.zeros((512,512,3), np.uint8)\n",
    "img[:,:] = (255, 255, 255)\n",
    "\n",
    "img_2 = np.zeros((512,512,3), np.uint8)\n",
    "img_2[:,:] = (255, 255, 255)\n",
    "\n",
    "# circle(image, center_point, radius as pixel, line color as BGR, thickness value)\n",
    "cv2.circle(img,(447,63), 63, (0,0,255),1)\n",
    "\n",
    "cv2.circle(img_2,(447,63), 63, (0,0,255),-1) # let's see if thickness value is -1  \n",
    "\n",
    "cv2.imshow(\"circle\", img)\n",
    "cv2.imshow(\"circle2\", img_2)\n",
    "\n",
    "cv2.waitKey() \n",
    "cv2.destroyAllWindows() "
   ]
  },
  {
   "cell_type": "markdown",
   "metadata": {},
   "source": [
    "# Text"
   ]
  },
  {
   "cell_type": "code",
   "execution_count": 92,
   "metadata": {},
   "outputs": [],
   "source": [
    "import cv2\n",
    "import numpy as np\n",
    "\n",
    "\n",
    "img = np.zeros((512,512,3), np.uint8)\n",
    "img[:,:] = (255, 255, 255)\n",
    "\n",
    "#putText(image, text, point, Font, scale, color, thickness, line type)\n",
    "cv2.putText(img,'Riders',(80,256), cv2.FONT_HERSHEY_SIMPLEX, 4,(0,120,255),2,cv2.LINE_AA)\n",
    "\n",
    "cv2.imshow(\"text\", img)\n",
    "\n",
    "cv2.waitKey() \n",
    "cv2.destroyAllWindows() "
   ]
  }
 ],
 "metadata": {
  "kernelspec": {
   "display_name": "Python 3",
   "language": "python",
   "name": "python3"
  },
  "language_info": {
   "codemirror_mode": {
    "name": "ipython",
    "version": 3
   },
   "file_extension": ".py",
   "mimetype": "text/x-python",
   "name": "python",
   "nbconvert_exporter": "python",
   "pygments_lexer": "ipython3",
   "version": "3.7.6"
  }
 },
 "nbformat": 4,
 "nbformat_minor": 4
}
