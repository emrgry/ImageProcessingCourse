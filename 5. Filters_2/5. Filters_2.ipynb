{
 "cells": [
  {
   "cell_type": "markdown",
   "metadata": {},
   "source": [
    "# MORPHOLOGICAL TRANSFORMATIONS"
   ]
  },
  {
   "cell_type": "markdown",
   "metadata": {},
   "source": [
    "Morphological transformations are some simple operations based on the image shape. It is normally performed on binary images."
   ]
  },
  {
   "cell_type": "markdown",
   "metadata": {},
   "source": [
    "## Erosion"
   ]
  },
  {
   "cell_type": "markdown",
   "metadata": {},
   "source": [
    " it erodes away the boundaries of foreground object. We need a kernel for erode image."
   ]
  },
  {
   "cell_type": "markdown",
   "metadata": {},
   "source": [
    "![image](erosion.png)"
   ]
  },
  {
   "cell_type": "code",
   "execution_count": 10,
   "metadata": {},
   "outputs": [],
   "source": [
    "import cv2\n",
    "import numpy as np\n",
    "\n",
    "img = cv2.imread('riders.png',0)\n",
    "cv2.imshow(\"Original\",img)\n",
    "\n",
    "# define kernel\n",
    "kernel = np.ones((3,3),np.uint8) # try for 3,5,7,9,11,..\n",
    "\n",
    "# erode(image, kernel, iterations)\n",
    "erosion = cv2.erode(img, kernel, 1)\n",
    "\n",
    "cv2.imshow(\"Erosion\",erosion)\n",
    "cv2.waitKey()\n",
    "cv2.destroyAllWindows()"
   ]
  },
  {
   "cell_type": "markdown",
   "metadata": {},
   "source": [
    "## Dilation"
   ]
  },
  {
   "cell_type": "markdown",
   "metadata": {},
   "source": [
    "It is just opposite of erosion."
   ]
  },
  {
   "cell_type": "markdown",
   "metadata": {},
   "source": [
    "![image](dilation.png)"
   ]
  },
  {
   "cell_type": "code",
   "execution_count": 11,
   "metadata": {},
   "outputs": [],
   "source": [
    "import cv2\n",
    "import numpy as np\n",
    "\n",
    "img = cv2.imread('riders.png',0)\n",
    "cv2.imshow(\"Original\",img)\n",
    "\n",
    "# define kernel\n",
    "kernel = np.ones((3,3),np.uint8) # try for 3,5,7,9,11,..\n",
    "\n",
    "# dilate(image, kernel, iterations)\n",
    "dilation = cv2.dilate(img, kernel, 1)\n",
    "\n",
    "cv2.imshow(\"Dilation\",dilation)\n",
    "cv2.waitKey()\n",
    "cv2.destroyAllWindows()"
   ]
  },
  {
   "cell_type": "markdown",
   "metadata": {},
   "source": [
    "## Opening"
   ]
  },
  {
   "cell_type": "markdown",
   "metadata": {},
   "source": [
    "Opening used for removing noises. It consist of erosion followed by dilation"
   ]
  },
  {
   "cell_type": "markdown",
   "metadata": {},
   "source": [
    "![image](opening.png)"
   ]
  },
  {
   "cell_type": "code",
   "execution_count": 6,
   "metadata": {},
   "outputs": [],
   "source": [
    "import cv2\n",
    "import numpy as np\n",
    "\n",
    "img = cv2.imread('open_riders.png',0)\n",
    "cv2.imshow(\"Original\",img)\n",
    "\n",
    "# You can also define kernel by using\n",
    "# getStructuringElement(structure type, kernel_size) function\n",
    "kernel = cv2.getStructuringElement(cv2.MORPH_RECT, (5,5))\n",
    "\n",
    "# morphologyEx(image, Morph_type, kernel)\n",
    "opening = cv2.morphologyEx(img, cv2.MORPH_OPEN, kernel)\n",
    "\n",
    "cv2.imshow(\"Opening\",opening)\n",
    "cv2.waitKey()\n",
    "cv2.destroyAllWindows()"
   ]
  },
  {
   "cell_type": "code",
   "execution_count": 5,
   "metadata": {},
   "outputs": [],
   "source": [
    "import cv2\n",
    "import numpy as np\n",
    "\n",
    "img = cv2.imread('open_riders.png',0)\n",
    "cv2.imshow(\"Original\",img)\n",
    "\n",
    "kernel = np.ones((3,3),np.uint8) # try for 3,5,7,9,11,..\n",
    "\n",
    "erosion = cv2.erode(img, kernel, 1)\n",
    "dilation = cv2.dilate(erosion, kernel, 1)\n",
    "\n",
    "cv2.imshow(\"Opening\",dilation)\n",
    "cv2.waitKey()\n",
    "cv2.destroyAllWindows()"
   ]
  },
  {
   "cell_type": "markdown",
   "metadata": {},
   "source": [
    "As you can see both method gives us same output"
   ]
  },
  {
   "cell_type": "markdown",
   "metadata": {},
   "source": [
    "## Closing"
   ]
  },
  {
   "cell_type": "markdown",
   "metadata": {},
   "source": [
    "Closing is reverse of Opening, Dilation followed by Erosion."
   ]
  },
  {
   "cell_type": "markdown",
   "metadata": {},
   "source": [
    "![image](closing.png)"
   ]
  },
  {
   "cell_type": "code",
   "execution_count": 8,
   "metadata": {},
   "outputs": [],
   "source": [
    "import cv2\n",
    "import numpy as np\n",
    "\n",
    "img = cv2.imread('close_riders.png',0)\n",
    "cv2.imshow(\"Original\",img)\n",
    "\n",
    "# You can also define kernel by using\n",
    "# getStructuringElement(structure type, kernel_size) function\n",
    "kernel = cv2.getStructuringElement(cv2.MORPH_RECT, (5,5))\n",
    "\n",
    "# morphologyEx(image, Morph_type, kernel)\n",
    "closing = cv2.morphologyEx(img, cv2.MORPH_CLOSE, kernel)\n",
    "\n",
    "cv2.imshow(\"Closing\",closing)\n",
    "cv2.waitKey()\n",
    "cv2.destroyAllWindows()"
   ]
  },
  {
   "cell_type": "code",
   "execution_count": 9,
   "metadata": {},
   "outputs": [],
   "source": [
    "import cv2\n",
    "import numpy as np\n",
    "\n",
    "img = cv2.imread('close_riders.png',0)\n",
    "cv2.imshow(\"Original\",img)\n",
    "\n",
    "kernel = np.ones((3,3),np.uint8) # try for 3,5,7,9,11,..\n",
    "\n",
    "dilation = cv2.dilate(img, kernel, 1)\n",
    "erosion = cv2.erode(dilation, kernel, 1)\n",
    "\n",
    "cv2.imshow(\"Closing\",erosion)\n",
    "cv2.waitKey()\n",
    "cv2.destroyAllWindows()"
   ]
  },
  {
   "cell_type": "markdown",
   "metadata": {},
   "source": [
    "## Morphological Gradient"
   ]
  },
  {
   "cell_type": "markdown",
   "metadata": {},
   "source": [
    "It is the difference between dilation and erosion of an image."
   ]
  },
  {
   "cell_type": "code",
   "execution_count": 11,
   "metadata": {},
   "outputs": [],
   "source": [
    "import cv2\n",
    "import numpy as np\n",
    "\n",
    "img = cv2.imread('riders.png',0)\n",
    "cv2.imshow(\"Original\",img)\n",
    "\n",
    "# You can also define kernel by using\n",
    "# getStructuringElement(structure type, kernel_size) function\n",
    "kernel = cv2.getStructuringElement(cv2.MORPH_RECT, (5,5))\n",
    "\n",
    "# morphologyEx(image, Morph_type, kernel)\n",
    "gradient = cv2.morphologyEx(img, cv2.MORPH_GRADIENT, kernel)\n",
    "\n",
    "cv2.imshow(\"Gradient\",gradient)\n",
    "cv2.waitKey()\n",
    "cv2.destroyAllWindows()"
   ]
  },
  {
   "cell_type": "code",
   "execution_count": null,
   "metadata": {},
   "outputs": [],
   "source": [
    "import cv2\n",
    "import numpy as np\n",
    "\n",
    "img = cv2.imread('riders.png',0)\n",
    "cv2.imshow(\"Original\",img)\n",
    "\n",
    "# You can also define kernel by using\n",
    "# getStructuringElement(structure type, kernel_size) function\n",
    "kernel = cv2.getStructuringElement(cv2.MORPH_CROSS, (3,3))\n",
    "\n",
    "# morphologyEx(image, Morph_type, kernel)\n",
    "gradient = cv2.morphologyEx(img, cv2.MORPH_GRADIENT, kernel)\n",
    "\n",
    "cv2.imshow(\"Gradient\",gradient)\n",
    "cv2.waitKey()\n",
    "cv2.destroyAllWindows()"
   ]
  }
 ],
 "metadata": {
  "kernelspec": {
   "display_name": "Python 3",
   "language": "python",
   "name": "python3"
  },
  "language_info": {
   "codemirror_mode": {
    "name": "ipython",
    "version": 3
   },
   "file_extension": ".py",
   "mimetype": "text/x-python",
   "name": "python",
   "nbconvert_exporter": "python",
   "pygments_lexer": "ipython3",
   "version": "3.7.6"
  }
 },
 "nbformat": 4,
 "nbformat_minor": 4
}
